{
 "cells": [
  {
   "cell_type": "markdown",
   "id": "b94dbbdf",
   "metadata": {},
   "source": [
    "# Enviroment installation\n",
    "\n",
    "first let's create a conda enviroment, we are going to use python 3.6.\n",
    "make sure conda is installed and then create the enviroment with the command:\n",
    "\n",
    "    conda create -n banana python=3.6\n"
   ]
  },
  {
   "cell_type": "markdown",
   "id": "42005984",
   "metadata": {},
   "source": [
    "to continue the setup we activate the created enviroment:\n",
    "\n",
    "    conda activate banana"
   ]
  },
  {
   "cell_type": "markdown",
   "id": "85d99e5f",
   "metadata": {},
   "source": [
    "now we install all the required packages, starting with pytorch where we have to pass an addionational package channel:\n",
    "\n",
    "    conda install pytorch==1.2.0 torchvision==0.4.0 cudatoolkit=10.0 -c pytorch"
   ]
  },
  {
   "cell_type": "markdown",
   "id": "308d4050",
   "metadata": {},
   "source": [
    "the rest of packages are listed in the requirements.txt file, you can use pip to install them:\n",
    "\n",
    "    pip install -r requirements.txt"
   ]
  },
  {
   "cell_type": "code",
   "execution_count": null,
   "id": "d4a65554",
   "metadata": {},
   "outputs": [],
   "source": []
  }
 ],
 "metadata": {
  "kernelspec": {
   "display_name": "drlnd",
   "language": "python",
   "name": "drlnd"
  },
  "language_info": {
   "codemirror_mode": {
    "name": "ipython",
    "version": 3
   },
   "file_extension": ".py",
   "mimetype": "text/x-python",
   "name": "python",
   "nbconvert_exporter": "python",
   "pygments_lexer": "ipython3",
   "version": "3.6.13"
  }
 },
 "nbformat": 4,
 "nbformat_minor": 5
}
